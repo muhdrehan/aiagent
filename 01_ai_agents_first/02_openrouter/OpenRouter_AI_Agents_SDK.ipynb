{
  "cells": [
    {
      "cell_type": "markdown",
      "metadata": {
        "id": "o92NPvIPpmCv"
      },
      "source": [
        "# Use OpenRouter With OpenAI Agents SDK"
      ]
    },
    {
      "cell_type": "markdown",
      "metadata": {
        "id": "l5oT3E8gqY_O"
      },
      "source": [
        "Setup Prerequisite:\n",
        "\n",
        "1. [Signup at OpenRouter](https://openrouter.ai/)\n",
        "2. [Create an API Key](https://openrouter.ai/settings/keys)\n",
        "2. Select a Free Model (you can continue as we are using a free model here)"
      ]
    },
    {
      "cell_type": "markdown",
      "metadata": {
        "id": "-Zh5JPz1qLbD"
      },
      "source": [
        "## Free and Paid Models"
      ]
    },
    {
      "cell_type": "markdown",
      "metadata": {
        "id": "3NksiafzqSg7"
      },
      "source": [
        "The OpenRouter supports the latest DeepSeek V3 0324 and 50+ other models for free. Most of them support the defacto standard: OpenAI Chat Completion API.\n",
        "\n",
        "\n",
        "If you are using a free model variant (with an ID ending in :free), then you will be limited to 20 requests per minute and 200 requests per day.\n",
        "\n",
        "**See all Models List: https://openrouter.ai/models**\n",
        "\n",
        "Note: OpenRouter do not charge anything extra at inference time."
      ]
    },
    {
      "cell_type": "markdown",
      "metadata": {
        "id": "Krf3ozmkpsVs"
      },
      "source": [
        "## Rate Limiting and Crediting"
      ]
    },
    {
      "cell_type": "markdown",
      "metadata": {
        "id": "WhcFykdIqKI4"
      },
      "source": [
        "There are a few rate limits that apply to certain types of requests, regardless of account status:\n",
        "\n",
        "- Free limit: If you are using a free model variant (with an ID ending in :free), then you will be limited to 20 requests per minute and 200 requests per day.\n",
        "\n",
        "If your account has a negative credit balance, you may see 402 errors, including for free models. Adding credits to put your balance above zero allows you to use those models again.\n",
        "\n",
        "[Reference](https://openrouter.ai/docs/api-reference/limits)"
      ]
    },
    {
      "cell_type": "markdown",
      "metadata": {
        "id": "GqX_s5idrryf"
      },
      "source": [
        "## Install OpenAI Agents Dep."
      ]
    },
    {
      "cell_type": "code",
      "execution_count": 1,
      "metadata": {
        "id": "7teAe2rONlBe",
        "outputId": "a289577d-880b-4a6f-bcb5-3cc1ef0a1139",
        "colab": {
          "base_uri": "https://localhost:8080/"
        }
      },
      "outputs": [
        {
          "output_type": "stream",
          "name": "stdout",
          "text": [
            "\u001b[?25l   \u001b[90m━━━━━━━━━━━━━━━━━━━━━━━━━━━━━━━━━━━━━━━━\u001b[0m \u001b[32m0.0/108.3 kB\u001b[0m \u001b[31m?\u001b[0m eta \u001b[36m-:--:--\u001b[0m\r\u001b[2K   \u001b[90m━━━━━━━━━━━━━━━━━━━━━━━━━━━━━━━━━━━━━━━━\u001b[0m \u001b[32m108.3/108.3 kB\u001b[0m \u001b[31m3.9 MB/s\u001b[0m eta \u001b[36m0:00:00\u001b[0m\n",
            "\u001b[?25h\u001b[?25l   \u001b[90m━━━━━━━━━━━━━━━━━━━━━━━━━━━━━━━━━━━━━━━━\u001b[0m \u001b[32m0.0/129.2 kB\u001b[0m \u001b[31m?\u001b[0m eta \u001b[36m-:--:--\u001b[0m\r\u001b[2K   \u001b[90m━━━━━━━━━━━━━━━━━━━━━━━━━━━━━━━━━━━━━━━━\u001b[0m \u001b[32m129.2/129.2 kB\u001b[0m \u001b[31m8.2 MB/s\u001b[0m eta \u001b[36m0:00:00\u001b[0m\n",
            "\u001b[?25h\u001b[?25l   \u001b[90m━━━━━━━━━━━━━━━━━━━━━━━━━━━━━━━━━━━━━━━━\u001b[0m \u001b[32m0.0/76.1 kB\u001b[0m \u001b[31m?\u001b[0m eta \u001b[36m-:--:--\u001b[0m\r\u001b[2K   \u001b[90m━━━━━━━━━━━━━━━━━━━━━━━━━━━━━━━━━━━━━━━━\u001b[0m \u001b[32m76.1/76.1 kB\u001b[0m \u001b[31m4.8 MB/s\u001b[0m eta \u001b[36m0:00:00\u001b[0m\n",
            "\u001b[2K   \u001b[90m━━━━━━━━━━━━━━━━━━━━━━━━━━━━━━━━━━━━━━━━\u001b[0m \u001b[32m44.4/44.4 kB\u001b[0m \u001b[31m2.9 MB/s\u001b[0m eta \u001b[36m0:00:00\u001b[0m\n",
            "\u001b[2K   \u001b[90m━━━━━━━━━━━━━━━━━━━━━━━━━━━━━━━━━━━━━━━━\u001b[0m \u001b[32m72.0/72.0 kB\u001b[0m \u001b[31m5.0 MB/s\u001b[0m eta \u001b[36m0:00:00\u001b[0m\n",
            "\u001b[2K   \u001b[90m━━━━━━━━━━━━━━━━━━━━━━━━━━━━━━━━━━━━━━━━\u001b[0m \u001b[32m62.5/62.5 kB\u001b[0m \u001b[31m4.3 MB/s\u001b[0m eta \u001b[36m0:00:00\u001b[0m\n",
            "\u001b[?25h"
          ]
        }
      ],
      "source": [
        "!pip install -Uq openai-agents"
      ]
    },
    {
      "cell_type": "code",
      "execution_count": 2,
      "metadata": {
        "id": "z3_PWpn4OIyT"
      },
      "outputs": [],
      "source": [
        "import nest_asyncio\n",
        "nest_asyncio.apply()"
      ]
    },
    {
      "cell_type": "markdown",
      "metadata": {
        "id": "ZTOibVJuN_pi"
      },
      "source": [
        "## Provider Config"
      ]
    },
    {
      "cell_type": "code",
      "execution_count": 10,
      "metadata": {
        "id": "zvmgohqY0-Wm"
      },
      "outputs": [],
      "source": [
        "from google.colab import userdata\n",
        "\n",
        "OPENROUTER_API_KEY = userdata.get(\"OPENROUTER_API_KEY\")"
      ]
    },
    {
      "cell_type": "code",
      "execution_count": 14,
      "metadata": {
        "id": "DeTqCZKGlVk_"
      },
      "outputs": [],
      "source": [
        "#Reference: https://openrouter.ai/docs/quickstart\n",
        "\n",
        "BASE_URL = \"https://openrouter.ai/api/v1\"\n",
        "MODEL = \"google/gemma-3-1b-it:free\"\n",
        "\n",
        "# Some other free models on 26th March:\n",
        "# https://openrouter.ai/deepseek/deepseek-chat-v3-0324:free\n",
        "# https://openrouter.ai/google/gemini-2.5-pro-exp-03-25:free"
      ]
    },
    {
      "cell_type": "markdown",
      "metadata": {
        "id": "IyWF4XNPtI7f"
      },
      "source": [
        "## 1. Using the OpenRouter API directly"
      ]
    },
    {
      "cell_type": "code",
      "execution_count": 15,
      "metadata": {
        "colab": {
          "base_uri": "https://localhost:8080/"
        },
        "id": "e0if6eGutM9h",
        "outputId": "bb2b1283-d1b1-4451-9ff8-9b47c65ddbbe"
      },
      "outputs": [
        {
          "output_type": "stream",
          "name": "stdout",
          "text": [
            "{'id': 'gen-1745045430-e3zwsL735OzknTz75wdX', 'provider': 'Chutes', 'model': 'google/gemma-3-1b-it', 'object': 'chat.completion', 'created': 1745045430, 'choices': [{'logprobs': None, 'finish_reason': 'stop', 'native_finish_reason': 'stop', 'index': 0, 'message': {'role': 'assistant', 'content': 'Please, let’s tackle this big question! The meaning of life is a question that has been pondered by philosophers, theologians, artists, and individuals for millennia. There’s no single, universally accepted answer. It’s a profoundly personal question, and the meaning you find will depend entirely on your own perspective and experiences. \\n\\nHere’s a breakdown of different ways people approach this, grouped into categories:\\n\\n**1. Philosophical Perspectives:**\\n\\n* **Nihilism:** This suggests that life is inherently without meaning, purpose, or intrinsic value. It can be a challenging viewpoint, but some find freedom in accepting this lack of inherent meaning.\\n* **Existentialism:** This philosophy emphasizes individual freedom and responsibility.  We are born into existence without a pre-determined purpose, and it\\'s *our* responsibility to create our own meaning through choices and actions. Thinkers like Sartre and Camus argue that existence precedes essence – we define ourselves through what we do.\\n* **Absurdism:**  Recognizes the inherent conflict between humanity\\'s desire for meaning and the universe\\'s apparent lack of it.  The key is to embrace the absurdity and find joy in the struggle. \\n* **Hedonism:** This perspective suggests that the meaning of life is to maximize pleasure and minimize pain.\\n* **Utilitarianism:**  Focuses on maximizing happiness and well-being for the greatest number of people. Finding meaning through contributing to the collective good.\\n\\n\\n**2. Religious and Spiritual Perspectives:**\\n\\n* **Many religions offer a meaning:** Many faiths provide answers regarding a divine purpose, such as serving God, following religious teachings, achieving enlightenment, or attaining salvation.\\n* **Spirituality (regardless of religion):**  Often focuses on connection to something larger than oneself – nature, the universe, or a universal consciousness.  Can involve practices like meditation, mindfulness, or connecting with the divine.\\n\\n\\n**3. Psychological Perspectives:**\\n\\n* **Self-Actualization:**  Viktor Frankl, a psychiatrist, argued that meaning is found in striving to fulfill one\\'s potential, pursuing meaningful goals, and experiencing a sense of purpose.\\n* **Purpose & Contribution:** Finding something to contribute to the world, whether through work, relationships, or creative pursuits. This can give life a sense of value.\\n* **Relationships & Connection:**  Humans are social creatures, and strong relationships with family, friends, and community provide meaning and belonging. \\n* **Growth & Learning:** The pursuit of knowledge, skills, and personal growth can be a source of meaning.\\n\\n\\n**4. Humanistic Perspectives:**\\n\\n* **Creating your own values:** Focusing on what is important to *you* – your values, passions, and interests – is crucial. \\n* **Experience & Awareness:**  Fully experiencing the world and appreciating the richness of life, rather than simply seeking a grand, overarching meaning.\\n\\n\\n**Ultimately, the \"meaning of life\" isn\\'t a question with a single answer. It\\'s an ongoing process of exploration and creation.**\\n\\n**Here are some questions to help you reflect on what *you* think matters:**\\n\\n*   What brings you joy?\\n*   What are you passionate about?\\n*   What kind of impact do you want to have on the world?\\n*   What values are most important to you?\\n\\nTo help me tailor my response further, could you tell me:\\n\\n*   **What are you particularly interested in exploring regarding the meaning of life?** (e.g., are you interested in philosophy, religion, psychology, or something else?)', 'refusal': None, 'reasoning': None}}], 'usage': {'prompt_tokens': 16, 'completion_tokens': 740, 'total_tokens': 756}}\n"
          ]
        }
      ],
      "source": [
        "import requests\n",
        "import json\n",
        "\n",
        "response = requests.post(\n",
        "  url=f\"{BASE_URL}/chat/completions\",\n",
        "  headers={\n",
        "    \"Authorization\": f\"Bearer {OPENROUTER_API_KEY}\",\n",
        "  },\n",
        "  data=json.dumps({\n",
        "    \"model\": MODEL,\n",
        "    \"messages\": [\n",
        "      {\n",
        "        \"role\": \"user\",\n",
        "        \"content\": \"What is the meaning of life?\"\n",
        "      }\n",
        "    ]\n",
        "  })\n",
        ")\n",
        "\n",
        "print(response.json())"
      ]
    },
    {
      "cell_type": "code",
      "execution_count": 16,
      "metadata": {
        "colab": {
          "base_uri": "https://localhost:8080/",
          "height": 140
        },
        "id": "mv3B6_oRto5S",
        "outputId": "926e88cc-2169-47f2-cb9e-00c395afa64a"
      },
      "outputs": [
        {
          "output_type": "execute_result",
          "data": {
            "text/plain": [
              "'Please, let’s tackle this big question! The meaning of life is a question that has been pondered by philosophers, theologians, artists, and individuals for millennia. There’s no single, universally accepted answer. It’s a profoundly personal question, and the meaning you find will depend entirely on your own perspective and experiences. \\n\\nHere’s a breakdown of different ways people approach this, grouped into categories:\\n\\n**1. Philosophical Perspectives:**\\n\\n* **Nihilism:** This suggests that life is inherently without meaning, purpose, or intrinsic value. It can be a challenging viewpoint, but some find freedom in accepting this lack of inherent meaning.\\n* **Existentialism:** This philosophy emphasizes individual freedom and responsibility.  We are born into existence without a pre-determined purpose, and it\\'s *our* responsibility to create our own meaning through choices and actions. Thinkers like Sartre and Camus argue that existence precedes essence – we define ourselves through what we do.\\n* **Absurdism:**  Recognizes the inherent conflict between humanity\\'s desire for meaning and the universe\\'s apparent lack of it.  The key is to embrace the absurdity and find joy in the struggle. \\n* **Hedonism:** This perspective suggests that the meaning of life is to maximize pleasure and minimize pain.\\n* **Utilitarianism:**  Focuses on maximizing happiness and well-being for the greatest number of people. Finding meaning through contributing to the collective good.\\n\\n\\n**2. Religious and Spiritual Perspectives:**\\n\\n* **Many religions offer a meaning:** Many faiths provide answers regarding a divine purpose, such as serving God, following religious teachings, achieving enlightenment, or attaining salvation.\\n* **Spirituality (regardless of religion):**  Often focuses on connection to something larger than oneself – nature, the universe, or a universal consciousness.  Can involve practices like meditation, mindfulness, or connecting with the divine.\\n\\n\\n**3. Psychological Perspectives:**\\n\\n* **Self-Actualization:**  Viktor Frankl, a psychiatrist, argued that meaning is found in striving to fulfill one\\'s potential, pursuing meaningful goals, and experiencing a sense of purpose.\\n* **Purpose & Contribution:** Finding something to contribute to the world, whether through work, relationships, or creative pursuits. This can give life a sense of value.\\n* **Relationships & Connection:**  Humans are social creatures, and strong relationships with family, friends, and community provide meaning and belonging. \\n* **Growth & Learning:** The pursuit of knowledge, skills, and personal growth can be a source of meaning.\\n\\n\\n**4. Humanistic Perspectives:**\\n\\n* **Creating your own values:** Focusing on what is important to *you* – your values, passions, and interests – is crucial. \\n* **Experience & Awareness:**  Fully experiencing the world and appreciating the richness of life, rather than simply seeking a grand, overarching meaning.\\n\\n\\n**Ultimately, the \"meaning of life\" isn\\'t a question with a single answer. It\\'s an ongoing process of exploration and creation.**\\n\\n**Here are some questions to help you reflect on what *you* think matters:**\\n\\n*   What brings you joy?\\n*   What are you passionate about?\\n*   What kind of impact do you want to have on the world?\\n*   What values are most important to you?\\n\\nTo help me tailor my response further, could you tell me:\\n\\n*   **What are you particularly interested in exploring regarding the meaning of life?** (e.g., are you interested in philosophy, religion, psychology, or something else?)'"
            ],
            "application/vnd.google.colaboratory.intrinsic+json": {
              "type": "string"
            }
          },
          "metadata": {},
          "execution_count": 16
        }
      ],
      "source": [
        "data = response.json()\n",
        "data['choices'][0]['message']['content']"
      ]
    },
    {
      "cell_type": "markdown",
      "metadata": {
        "id": "E_jESzWAsu91"
      },
      "source": [
        "## 2. Using OpenAI Agents SDK"
      ]
    },
    {
      "cell_type": "code",
      "execution_count": 18,
      "metadata": {
        "colab": {
          "base_uri": "https://localhost:8080/"
        },
        "id": "QA4vWqtvN6wm",
        "outputId": "fa5a571e-73b0-4003-cde7-d1092556cb29"
      },
      "outputs": [
        {
          "output_type": "stream",
          "name": "stdout",
          "text": [
            " amaze!\n",
            "\n",
            "A call, a loop, a climb,\n",
            "Repeating steps, building up,\n",
            "Logic's gentle flow. \n",
            "\n",
            "Each function calls more,\n",
            "A nested depth, a small dance,\n",
            "Solutions subtly bloom. \n",
            "\n",
            "Efficiency's quiet grace,\n",
            "Reducing work with each step,\n",
            "A clever, simple key. \n",
            "\n",
            "Though complex can be deep,\n",
            "It’s logic’s art, finely spun,\n",
            "Building up a whole. \n",
            "\n",
            "Consider this, dear friend, \n",
            "Recursion’s a rhythm true. \n",
            "Code's a graceful weave. \n",
            "\n"
          ]
        }
      ],
      "source": [
        "import asyncio\n",
        "from openai import AsyncOpenAI\n",
        "from agents import Agent, OpenAIChatCompletionsModel, Runner, set_tracing_disabled\n",
        "\n",
        "client = AsyncOpenAI(\n",
        "    api_key=OPENROUTER_API_KEY,\n",
        "    base_url=BASE_URL\n",
        ")\n",
        "\n",
        "set_tracing_disabled(disabled=True)\n",
        "\n",
        "async def main():\n",
        "    # This agent will use the custom LLM provider\n",
        "    agent = Agent(\n",
        "        name=\"Assistant\",\n",
        "        instructions=\"You only respond in haikus.\",\n",
        "        model=OpenAIChatCompletionsModel(model=MODEL, openai_client=client),\n",
        "    )\n",
        "\n",
        "    result = await Runner.run(\n",
        "        agent,\n",
        "        \"Tell me about recursion in programming.\",\n",
        "    )\n",
        "    print(result.final_output)\n",
        "\n",
        "\n",
        "if __name__ == \"__main__\":\n",
        "    asyncio.run(main())"
      ]
    },
    {
      "cell_type": "markdown",
      "metadata": {
        "id": "t80KbZgnxT9l"
      },
      "source": [
        "# OpenRouter 404 Error Solution\n",
        "\n",
        "## Error - No endpoints found matching\n",
        "```python\n",
        "NotFoundError: Error code: 404 - {'error': {'message': 'No endpoints found matching your data policy. Enable prompt training here: https://openrouter.ai/settings/privacy', 'code': 404}}\n",
        "```\n",
        "\n",
        "## Cause\n",
        "This error occurs when OpenRouter API can't find endpoints matching your data policy, typically because prompt training is disabled.\n",
        "\n",
        "## Solution\n",
        "\n",
        "1. **Enable Prompt Training**:\n",
        "   - Visit [OpenRouter Privacy Settings](https://openrouter.ai/settings/privacy)\n",
        "   - Toggle ON \"Prompt Training\" option\n",
        "\n",
        "2. **Re-run your code** after enabling\n",
        "\n",
        "![OpenRouter Settings Screenshot](https://github.com/panaversity/learn-agentic-ai/blob/main/01_ai_agents_first/02_openrouter/openrouter.png?raw=1)\n",
        "*(Example: Enable prompt training in privacy settings)*\n",
        "\n",
        "## Prevention\n",
        "Keep prompt training enabled for uninterrupted API access.\n",
        "```"
      ]
    }
  ],
  "metadata": {
    "colab": {
      "provenance": []
    },
    "kernelspec": {
      "display_name": "Python 3",
      "name": "python3"
    },
    "language_info": {
      "name": "python"
    }
  },
  "nbformat": 4,
  "nbformat_minor": 0
}